{
 "cells": [
  {
   "cell_type": "markdown",
   "metadata": {},
   "source": [
    "# ROCK IDENTIFICATION USING DEEP CONVOLUTION NEURAL NETWORKS"
   ]
  },
  {
   "cell_type": "markdown",
   "metadata": {},
   "source": [
    "# 1.Importing libraries for Image Preprocessing and CNN layers"
   ]
  },
  {
   "cell_type": "code",
   "execution_count": 1,
   "metadata": {},
   "outputs": [
    {
     "name": "stderr",
     "output_type": "stream",
     "text": [
      "Using TensorFlow backend.\n",
      "C:\\Users\\crazy\\anaconda3\\lib\\site-packages\\tensorflow\\python\\framework\\dtypes.py:516: FutureWarning: Passing (type, 1) or '1type' as a synonym of type is deprecated; in a future version of numpy, it will be understood as (type, (1,)) / '(1,)type'.\n",
      "  _np_qint8 = np.dtype([(\"qint8\", np.int8, 1)])\n",
      "C:\\Users\\crazy\\anaconda3\\lib\\site-packages\\tensorflow\\python\\framework\\dtypes.py:517: FutureWarning: Passing (type, 1) or '1type' as a synonym of type is deprecated; in a future version of numpy, it will be understood as (type, (1,)) / '(1,)type'.\n",
      "  _np_quint8 = np.dtype([(\"quint8\", np.uint8, 1)])\n",
      "C:\\Users\\crazy\\anaconda3\\lib\\site-packages\\tensorflow\\python\\framework\\dtypes.py:518: FutureWarning: Passing (type, 1) or '1type' as a synonym of type is deprecated; in a future version of numpy, it will be understood as (type, (1,)) / '(1,)type'.\n",
      "  _np_qint16 = np.dtype([(\"qint16\", np.int16, 1)])\n",
      "C:\\Users\\crazy\\anaconda3\\lib\\site-packages\\tensorflow\\python\\framework\\dtypes.py:519: FutureWarning: Passing (type, 1) or '1type' as a synonym of type is deprecated; in a future version of numpy, it will be understood as (type, (1,)) / '(1,)type'.\n",
      "  _np_quint16 = np.dtype([(\"quint16\", np.uint16, 1)])\n",
      "C:\\Users\\crazy\\anaconda3\\lib\\site-packages\\tensorflow\\python\\framework\\dtypes.py:520: FutureWarning: Passing (type, 1) or '1type' as a synonym of type is deprecated; in a future version of numpy, it will be understood as (type, (1,)) / '(1,)type'.\n",
      "  _np_qint32 = np.dtype([(\"qint32\", np.int32, 1)])\n",
      "C:\\Users\\crazy\\anaconda3\\lib\\site-packages\\tensorflow\\python\\framework\\dtypes.py:525: FutureWarning: Passing (type, 1) or '1type' as a synonym of type is deprecated; in a future version of numpy, it will be understood as (type, (1,)) / '(1,)type'.\n",
      "  np_resource = np.dtype([(\"resource\", np.ubyte, 1)])\n",
      "C:\\Users\\crazy\\anaconda3\\lib\\site-packages\\tensorboard\\compat\\tensorflow_stub\\dtypes.py:541: FutureWarning: Passing (type, 1) or '1type' as a synonym of type is deprecated; in a future version of numpy, it will be understood as (type, (1,)) / '(1,)type'.\n",
      "  _np_qint8 = np.dtype([(\"qint8\", np.int8, 1)])\n",
      "C:\\Users\\crazy\\anaconda3\\lib\\site-packages\\tensorboard\\compat\\tensorflow_stub\\dtypes.py:542: FutureWarning: Passing (type, 1) or '1type' as a synonym of type is deprecated; in a future version of numpy, it will be understood as (type, (1,)) / '(1,)type'.\n",
      "  _np_quint8 = np.dtype([(\"quint8\", np.uint8, 1)])\n",
      "C:\\Users\\crazy\\anaconda3\\lib\\site-packages\\tensorboard\\compat\\tensorflow_stub\\dtypes.py:543: FutureWarning: Passing (type, 1) or '1type' as a synonym of type is deprecated; in a future version of numpy, it will be understood as (type, (1,)) / '(1,)type'.\n",
      "  _np_qint16 = np.dtype([(\"qint16\", np.int16, 1)])\n",
      "C:\\Users\\crazy\\anaconda3\\lib\\site-packages\\tensorboard\\compat\\tensorflow_stub\\dtypes.py:544: FutureWarning: Passing (type, 1) or '1type' as a synonym of type is deprecated; in a future version of numpy, it will be understood as (type, (1,)) / '(1,)type'.\n",
      "  _np_quint16 = np.dtype([(\"quint16\", np.uint16, 1)])\n",
      "C:\\Users\\crazy\\anaconda3\\lib\\site-packages\\tensorboard\\compat\\tensorflow_stub\\dtypes.py:545: FutureWarning: Passing (type, 1) or '1type' as a synonym of type is deprecated; in a future version of numpy, it will be understood as (type, (1,)) / '(1,)type'.\n",
      "  _np_qint32 = np.dtype([(\"qint32\", np.int32, 1)])\n",
      "C:\\Users\\crazy\\anaconda3\\lib\\site-packages\\tensorboard\\compat\\tensorflow_stub\\dtypes.py:550: FutureWarning: Passing (type, 1) or '1type' as a synonym of type is deprecated; in a future version of numpy, it will be understood as (type, (1,)) / '(1,)type'.\n",
      "  np_resource = np.dtype([(\"resource\", np.ubyte, 1)])\n"
     ]
    }
   ],
   "source": [
    "from keras.models import Sequential\n",
    "from keras.layers import Dense\n",
    "from keras.layers import Convolution2D\n",
    "from keras.layers import MaxPooling2D\n",
    "from keras.layers import Flatten"
   ]
  },
  {
   "cell_type": "markdown",
   "metadata": {},
   "source": [
    "# 2. Image Preprocessing"
   ]
  },
  {
   "cell_type": "code",
   "execution_count": 2,
   "metadata": {},
   "outputs": [],
   "source": [
    "from keras.preprocessing.image import ImageDataGenerator\n",
    "R_train= ImageDataGenerator(rescale=1./255,shear_range=0.2,zoom_range=0.2,horizontal_flip=True)\n",
    "R_test= ImageDataGenerator(rescale=1./255)"
   ]
  },
  {
   "cell_type": "code",
   "execution_count": 3,
   "metadata": {},
   "outputs": [
    {
     "name": "stdout",
     "output_type": "stream",
     "text": [
      "Found 148 images belonging to 5 classes.\n",
      "Found 349 images belonging to 5 classes.\n"
     ]
    }
   ],
   "source": [
    "strain=R_train.flow_from_directory(r\"D:\\hups\\testset\",target_size = (64,64),batch_size = 32,class_mode=\"categorical\")\n",
    "stest=R_test.flow_from_directory(r\"D:\\hups\\trainset\",target_size = (64,64),batch_size =32 ,class_mode=\"categorical\")"
   ]
  },
  {
   "cell_type": "code",
   "execution_count": 14,
   "metadata": {},
   "outputs": [
    {
     "data": {
      "text/plain": [
       "{'Basalt': 0, 'Marble': 1, 'Slate': 2, 'liginite': 3, 'nephline': 4}"
      ]
     },
     "execution_count": 14,
     "metadata": {},
     "output_type": "execute_result"
    }
   ],
   "source": [
    "strain.class_indices"
   ]
  },
  {
   "cell_type": "markdown",
   "metadata": {},
   "source": [
    "# 3. Building the Model"
   ]
  },
  {
   "cell_type": "raw",
   "metadata": {},
   "source": [
    "Now Lets Intialize the Model"
   ]
  },
  {
   "cell_type": "code",
   "execution_count": 5,
   "metadata": {},
   "outputs": [
    {
     "name": "stdout",
     "output_type": "stream",
     "text": [
      "WARNING:tensorflow:From C:\\Users\\crazy\\anaconda3\\lib\\site-packages\\keras\\backend\\tensorflow_backend.py:74: The name tf.get_default_graph is deprecated. Please use tf.compat.v1.get_default_graph instead.\n",
      "\n"
     ]
    }
   ],
   "source": [
    "model=Sequential()"
   ]
  },
  {
   "cell_type": "code",
   "execution_count": 6,
   "metadata": {},
   "outputs": [
    {
     "name": "stdout",
     "output_type": "stream",
     "text": [
      "WARNING:tensorflow:From C:\\Users\\crazy\\anaconda3\\lib\\site-packages\\keras\\backend\\tensorflow_backend.py:517: The name tf.placeholder is deprecated. Please use tf.compat.v1.placeholder instead.\n",
      "\n",
      "WARNING:tensorflow:From C:\\Users\\crazy\\anaconda3\\lib\\site-packages\\keras\\backend\\tensorflow_backend.py:4138: The name tf.random_uniform is deprecated. Please use tf.random.uniform instead.\n",
      "\n"
     ]
    }
   ],
   "source": [
    "model.add(Convolution2D(32,(3,3),input_shape = (64,64,3),activation = \"relu\"))"
   ]
  },
  {
   "cell_type": "code",
   "execution_count": 7,
   "metadata": {},
   "outputs": [
    {
     "name": "stdout",
     "output_type": "stream",
     "text": [
      "WARNING:tensorflow:From C:\\Users\\crazy\\anaconda3\\lib\\site-packages\\keras\\backend\\tensorflow_backend.py:3976: The name tf.nn.max_pool is deprecated. Please use tf.nn.max_pool2d instead.\n",
      "\n"
     ]
    }
   ],
   "source": [
    "model.add(MaxPooling2D(pool_size = (2,2)))"
   ]
  },
  {
   "cell_type": "code",
   "execution_count": 8,
   "metadata": {},
   "outputs": [],
   "source": [
    "model.add(Flatten())"
   ]
  },
  {
   "cell_type": "code",
   "execution_count": 9,
   "metadata": {},
   "outputs": [
    {
     "name": "stderr",
     "output_type": "stream",
     "text": [
      "C:\\Users\\crazy\\anaconda3\\lib\\site-packages\\ipykernel_launcher.py:1: UserWarning: Update your `Dense` call to the Keras 2 API: `Dense(units=128, activation=\"relu\", kernel_initializer=\"uniform\")`\n",
      "  \"\"\"Entry point for launching an IPython kernel.\n"
     ]
    }
   ],
   "source": [
    "model.add(Dense(units = 128,init = \"uniform\", activation = \"relu\"))"
   ]
  },
  {
   "cell_type": "code",
   "execution_count": 10,
   "metadata": {},
   "outputs": [
    {
     "name": "stderr",
     "output_type": "stream",
     "text": [
      "C:\\Users\\crazy\\anaconda3\\lib\\site-packages\\ipykernel_launcher.py:1: UserWarning: Update your `Dense` call to the Keras 2 API: `Dense(units=5, activation=\"softmax\", kernel_initializer=\"uniform\")`\n",
      "  \"\"\"Entry point for launching an IPython kernel.\n"
     ]
    }
   ],
   "source": [
    "model.add(Dense(units = 5,init = \"uniform\", activation = \"softmax\"))"
   ]
  },
  {
   "cell_type": "markdown",
   "metadata": {},
   "source": [
    "# 4. Configuring the model"
   ]
  },
  {
   "cell_type": "code",
   "execution_count": 11,
   "metadata": {},
   "outputs": [
    {
     "name": "stdout",
     "output_type": "stream",
     "text": [
      "WARNING:tensorflow:From C:\\Users\\crazy\\anaconda3\\lib\\site-packages\\keras\\optimizers.py:790: The name tf.train.Optimizer is deprecated. Please use tf.compat.v1.train.Optimizer instead.\n",
      "\n",
      "WARNING:tensorflow:From C:\\Users\\crazy\\anaconda3\\lib\\site-packages\\keras\\backend\\tensorflow_backend.py:3295: The name tf.log is deprecated. Please use tf.math.log instead.\n",
      "\n"
     ]
    }
   ],
   "source": [
    "model.compile(optimizer = \"adam\",loss = \"categorical_crossentropy\",metrics = [\"accuracy\"])"
   ]
  },
  {
   "cell_type": "code",
   "execution_count": 12,
   "metadata": {},
   "outputs": [
    {
     "name": "stdout",
     "output_type": "stream",
     "text": [
      "WARNING:tensorflow:From C:\\Users\\crazy\\anaconda3\\lib\\site-packages\\tensorflow\\python\\ops\\math_grad.py:1250: add_dispatch_support.<locals>.wrapper (from tensorflow.python.ops.array_ops) is deprecated and will be removed in a future version.\n",
      "Instructions for updating:\n",
      "Use tf.where in 2.0, which has the same broadcast rule as np.where\n",
      "WARNING:tensorflow:From C:\\Users\\crazy\\anaconda3\\lib\\site-packages\\keras\\backend\\tensorflow_backend.py:986: The name tf.assign_add is deprecated. Please use tf.compat.v1.assign_add instead.\n",
      "\n",
      "Epoch 1/30\n",
      "5/5 [==============================] - 22s 4s/step - loss: 1.9581 - acc: 0.2470 - val_loss: 1.8190 - val_acc: 0.2034\n",
      "Epoch 2/30\n",
      "5/5 [==============================] - 6s 1s/step - loss: 1.6889 - acc: 0.2373 - val_loss: 1.6042 - val_acc: 0.2235\n",
      "Epoch 3/30\n",
      "5/5 [==============================] - 6s 1s/step - loss: 1.5192 - acc: 0.3609 - val_loss: 1.5685 - val_acc: 0.2292\n",
      "Epoch 4/30\n",
      "5/5 [==============================] - 6s 1s/step - loss: 1.4963 - acc: 0.3195 - val_loss: 1.5141 - val_acc: 0.3381\n",
      "Epoch 5/30\n",
      "5/5 [==============================] - 6s 1s/step - loss: 1.4257 - acc: 0.4305 - val_loss: 1.5118 - val_acc: 0.3639\n",
      "Epoch 6/30\n",
      "5/5 [==============================] - 11s 2s/step - loss: 1.3593 - acc: 0.4399 - val_loss: 1.5430 - val_acc: 0.3438\n",
      "Epoch 7/30\n",
      "5/5 [==============================] - 5s 975ms/step - loss: 1.2916 - acc: 0.5253 - val_loss: 1.4936 - val_acc: 0.3754\n",
      "Epoch 8/30\n",
      "5/5 [==============================] - 5s 916ms/step - loss: 1.2527 - acc: 0.4746 - val_loss: 1.6480 - val_acc: 0.3496\n",
      "Epoch 9/30\n",
      "5/5 [==============================] - 5s 990ms/step - loss: 1.2298 - acc: 0.5191 - val_loss: 1.5196 - val_acc: 0.3639\n",
      "Epoch 10/30\n",
      "5/5 [==============================] - 5s 990ms/step - loss: 1.1382 - acc: 0.5221 - val_loss: 1.7292 - val_acc: 0.3524\n",
      "Epoch 11/30\n",
      "5/5 [==============================] - 5s 984ms/step - loss: 1.1493 - acc: 0.5316 - val_loss: 1.5507 - val_acc: 0.3926\n",
      "Epoch 12/30\n",
      "5/5 [==============================] - 4s 880ms/step - loss: 1.0697 - acc: 0.5822 - val_loss: 1.6846 - val_acc: 0.3181\n",
      "Epoch 13/30\n",
      "5/5 [==============================] - 5s 962ms/step - loss: 1.0232 - acc: 0.6075 - val_loss: 1.5652 - val_acc: 0.3983\n",
      "Epoch 14/30\n",
      "5/5 [==============================] - 5s 915ms/step - loss: 0.9758 - acc: 0.6740 - val_loss: 1.6522 - val_acc: 0.3840\n",
      "Epoch 15/30\n",
      "5/5 [==============================] - 4s 846ms/step - loss: 1.0330 - acc: 0.5476 - val_loss: 1.7655 - val_acc: 0.3524\n",
      "Epoch 16/30\n",
      "5/5 [==============================] - 6s 1s/step - loss: 0.9565 - acc: 0.6549 - val_loss: 1.7899 - val_acc: 0.3725\n",
      "Epoch 17/30\n",
      "5/5 [==============================] - 5s 901ms/step - loss: 0.9430 - acc: 0.6077 - val_loss: 1.7212 - val_acc: 0.3610\n",
      "Epoch 18/30\n",
      "5/5 [==============================] - 6s 1s/step - loss: 0.9422 - acc: 0.6551 - val_loss: 1.8537 - val_acc: 0.3524\n",
      "Epoch 19/30\n",
      "5/5 [==============================] - 4s 863ms/step - loss: 0.9174 - acc: 0.6424 - val_loss: 1.9214 - val_acc: 0.3496\n",
      "Epoch 20/30\n",
      "5/5 [==============================] - 5s 1s/step - loss: 0.9061 - acc: 0.6677 - val_loss: 1.9358 - val_acc: 0.3811\n",
      "Epoch 21/30\n",
      "5/5 [==============================] - 4s 867ms/step - loss: 0.8541 - acc: 0.6647 - val_loss: 1.6697 - val_acc: 0.4155\n",
      "Epoch 22/30\n",
      "5/5 [==============================] - 4s 897ms/step - loss: 0.8364 - acc: 0.6898 - val_loss: 2.1842 - val_acc: 0.3496\n",
      "Epoch 23/30\n",
      "5/5 [==============================] - 5s 908ms/step - loss: 0.8136 - acc: 0.7120 - val_loss: 1.7087 - val_acc: 0.4298\n",
      "Epoch 24/30\n",
      "5/5 [==============================] - 6s 1s/step - loss: 0.7685 - acc: 0.7341 - val_loss: 1.8846 - val_acc: 0.3725\n",
      "Epoch 25/30\n",
      "5/5 [==============================] - 5s 1s/step - loss: 0.7677 - acc: 0.7247 - val_loss: 1.7795 - val_acc: 0.3840\n",
      "Epoch 26/30\n",
      "5/5 [==============================] - 4s 895ms/step - loss: 0.7542 - acc: 0.6963 - val_loss: 1.8923 - val_acc: 0.3840\n",
      "Epoch 27/30\n",
      "5/5 [==============================] - 6s 1s/step - loss: 0.7067 - acc: 0.6963 - val_loss: 1.9934 - val_acc: 0.3840\n",
      "Epoch 28/30\n",
      "5/5 [==============================] - 5s 1s/step - loss: 0.7155 - acc: 0.7310 - val_loss: 1.8673 - val_acc: 0.3983\n",
      "Epoch 29/30\n",
      "5/5 [==============================] - 6s 1s/step - loss: 0.6550 - acc: 0.7468 - val_loss: 1.9214 - val_acc: 0.3897\n",
      "Epoch 30/30\n",
      "5/5 [==============================] - 5s 967ms/step - loss: 0.5955 - acc: 0.8196 - val_loss: 1.9300 - val_acc: 0.4069\n"
     ]
    },
    {
     "data": {
      "text/plain": [
       "<keras.callbacks.History at 0x1de3a82d508>"
      ]
     },
     "execution_count": 12,
     "metadata": {},
     "output_type": "execute_result"
    }
   ],
   "source": [
    "model.fit_generator(strain,steps_per_epoch = 5 ,epochs = 30,validation_data = stest,validation_steps = 11 )"
   ]
  },
  {
   "cell_type": "markdown",
   "metadata": {},
   "source": [
    "# 5. Saving the Model"
   ]
  },
  {
   "cell_type": "code",
   "execution_count": 13,
   "metadata": {},
   "outputs": [],
   "source": [
    "model.save(\"rock.h5\")"
   ]
  },
  {
   "cell_type": "code",
   "execution_count": null,
   "metadata": {},
   "outputs": [],
   "source": []
  }
 ],
 "metadata": {
  "kernelspec": {
   "display_name": "Python 3",
   "language": "python",
   "name": "python3"
  },
  "language_info": {
   "codemirror_mode": {
    "name": "ipython",
    "version": 3
   },
   "file_extension": ".py",
   "mimetype": "text/x-python",
   "name": "python",
   "nbconvert_exporter": "python",
   "pygments_lexer": "ipython3",
   "version": "3.7.6"
  }
 },
 "nbformat": 4,
 "nbformat_minor": 4
}
